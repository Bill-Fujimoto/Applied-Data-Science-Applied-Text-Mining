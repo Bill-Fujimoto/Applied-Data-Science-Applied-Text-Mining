{
 "cells": [
  {
   "cell_type": "markdown",
   "metadata": {},
   "source": [
    "---\n",
    "\n",
    "_You are currently looking at **version 1.1** of this notebook. To download notebooks and datafiles, as well as get help on Jupyter notebooks in the Coursera platform, visit the [Jupyter Notebook FAQ](https://www.coursera.org/learn/python-text-mining/resources/d9pwm) course resource._\n",
    "\n",
    "---"
   ]
  },
  {
   "cell_type": "markdown",
   "metadata": {},
   "source": [
    "# Assignment 1\n",
    "\n",
    "In this assignment, you'll be working with messy medical data and using regex to extract relevant infromation from the data. \n",
    "\n",
    "Each line of the `dates.txt` file corresponds to a medical note. Each note has a date that needs to be extracted, but each date is encoded in one of many formats.\n",
    "\n",
    "The goal of this assignment is to correctly identify all of the different date variants encoded in this dataset and to properly normalize and sort the dates. \n",
    "\n",
    "Here is a list of some of the variants you might encounter in this dataset:\n",
    "* 04/20/2009; 04/20/09; 4/20/09; 4/3/09\n",
    "* Mar-20-2009; Mar 20, 2009; March 20, 2009;  Mar. 20, 2009; Mar 20 2009;\n",
    "* 20 Mar 2009; 20 March 2009; 20 Mar. 2009; 20 March, 2009\n",
    "* Mar 20th, 2009; Mar 21st, 2009; Mar 22nd, 2009\n",
    "* Feb 2009; Sep 2009; Oct 2010\n",
    "* 6/2008; 12/2009\n",
    "* 2009; 2010\n",
    "\n",
    "Once you have extracted these date patterns from the text, the next step is to sort them in ascending chronological order accoring to the following rules:\n",
    "* Assume all dates in xx/xx/xx format are mm/dd/yy\n",
    "* Assume all dates where year is encoded in only two digits are years from the 1900's (e.g. 1/5/89 is January 5th, 1989)\n",
    "* If the day is missing (e.g. 9/2009), assume it is the first day of the month (e.g. September 1, 2009).\n",
    "* If the month is missing (e.g. 2010), assume it is the first of January of that year (e.g. January 1, 2010).\n",
    "* Watch out for potential typos as this is a raw, real-life derived dataset.\n",
    "\n",
    "With these rules in mind, find the correct date in each note and return a pandas Series in chronological order of the original Series' indices.\n",
    "\n",
    "For example if the original series was this:\n",
    "\n",
    "    0    1999\n",
    "    1    2010\n",
    "    2    1978\n",
    "    3    2015\n",
    "    4    1985\n",
    "\n",
    "Your function should return this:\n",
    "\n",
    "    0    2\n",
    "    1    4\n",
    "    2    0\n",
    "    3    1\n",
    "    4    3\n",
    "\n",
    "Your score will be calculated using [Kendall's tau](https://en.wikipedia.org/wiki/Kendall_rank_correlation_coefficient), a correlation measure for ordinal data.\n",
    "\n",
    "*This function should return a Series of length 500 and dtype int.*"
   ]
  },
  {
   "cell_type": "code",
   "execution_count": 193,
   "metadata": {},
   "outputs": [],
   "source": [
    "import pandas as pd\n",
    "import re\n",
    "\n",
    "doc = []\n",
    "with open('../readonly/dates.txt') as file:\n",
    "    for line in file:\n",
    "        doc.append(line.strip())\n",
    "\n",
    "df = pd.DataFrame(doc, columns=['text'])\n",
    "#df.head(10)\n"
   ]
  },
  {
   "cell_type": "code",
   "execution_count": 194,
   "metadata": {},
   "outputs": [],
   "source": [
    "def extract(data):\n",
    "    \n",
    "    mmddyyyy = re.findall(r'\\b\\d{1,2}[/-]\\d{1,2}[/-]\\d{4}\\b', data)\n",
    "    mmddyy = re.findall(r'\\d{1,2}[/-]\\d{1,2}[/-]\\d{2}\\b', data)\n",
    "    mmyyyy = re.findall(r'\\d{1,2}[/]\\d{4}\\b', data)\n",
    "    mon_dd_yyyy = re.findall('(?:Jan|Feb|Mar|Apr|May|Jun|Jul|Aug|Sep|Oct|Nov|Dec)[a-z]*[.]?(?: \\d{1,2}[a-z]*)[,]? \\d{4}', data)\n",
    "    dd_mon_yyyy = re.findall('(?:\\d{1,2} )(?:Jan|Feb|Mar|Apr|May|Jun|Jul|Aug|Sep|Oct|Nov|Dec)[a-z]*[.,]? \\d{4}', data)\n",
    "    mon_year = re.findall(r'(?<![0-9] )(?:Jan|Feb|Mar|Apr|May|Jun|Jul|Aug|Sep|Oct|Nov|Dec)[a-z]*[.,]? \\d{4}', data)\n",
    "    year = re.findall(r'(?<![1-9])\\d{4}(?![1-9])', data)\n",
    "  \n",
    "    if mmddyyyy:\n",
    "        return mmddyyyy[0] #+ ': mmddyyy'\n",
    "    elif mmddyy:\n",
    "        return mmddyy[0] #+ ': mmddyy'\n",
    "    elif mmyyyy:\n",
    "        s = mmyyyy[0].split('/')\n",
    "        return s[0] + '/1/' + s[1] #+ ': mmyyyy'\n",
    "    elif mon_dd_yyyy:\n",
    "        return mon_dd_yyyy[0] #+ ': mon_dd_yyyy'\n",
    "    elif dd_mon_yyyy:\n",
    "        return dd_mon_yyyy[0] #+ ': dd_mon_yyyy'\n",
    "    elif mon_year:\n",
    "        s = mon_year[0].split()\n",
    "        s[0] = s[0][:3]\n",
    "        s.append(s[1])\n",
    "        s[1] = '1,'\n",
    "        return ' '.join(s) #+ ': mon_year'\n",
    "    elif year:\n",
    "        return 'January 1, ' + year[0] #+ ': year'\n",
    "    else:\n",
    "        return None\n",
    "\n",
    "df['date'] = df['text'].apply(extract)\n",
    "df['date-time'] = pd.to_datetime(df['date'])\n",
    "df.sort_values('date-time', inplace=True)\n",
    "pd.Series(df.index.tolist()).astype('int32')\n",
    "\n",
    "df.to_html(\"debug.html\")\n",
    "#df['date1'].value_counts(dropna=False)\n",
    "#df[df['date1'].isna()].index"
   ]
  },
  {
   "cell_type": "code",
   "execution_count": 7,
   "metadata": {},
   "outputs": [],
   "source": [
    "def date_sorter():\n",
    "    \n",
    "    # Your code here\n",
    "    \n",
    "    return # Your answer here"
   ]
  },
  {
   "cell_type": "code",
   "execution_count": null,
   "metadata": {},
   "outputs": [],
   "source": []
  }
 ],
 "metadata": {
  "coursera": {
   "course_slug": "python-text-mining",
   "graded_item_id": "LvcWI",
   "launcher_item_id": "krne9",
   "part_id": "Mkp1I"
  },
  "kernelspec": {
   "display_name": "Python 3",
   "language": "python",
   "name": "python3"
  },
  "language_info": {
   "codemirror_mode": {
    "name": "ipython",
    "version": 3
   },
   "file_extension": ".py",
   "mimetype": "text/x-python",
   "name": "python",
   "nbconvert_exporter": "python",
   "pygments_lexer": "ipython3",
   "version": "3.6.5"
  }
 },
 "nbformat": 4,
 "nbformat_minor": 2
}
